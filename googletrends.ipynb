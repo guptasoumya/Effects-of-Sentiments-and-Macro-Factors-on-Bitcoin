{
 "cells": [
  {
   "cell_type": "code",
   "execution_count": 5,
   "metadata": {},
   "outputs": [],
   "source": [
    "import csv\n",
    "import time\n",
    "import pandas as pd\n",
    "from random import randint\n",
    "import matplotlib.pyplot as plt\n",
    "\n",
    "import pytrends\n",
    "import seaborn as sns\n",
    "import pytrends\n",
    "from pytrends.request import TrendReq\n",
    "pytrend = TrendReq()\n"
   ]
  },
  {
   "cell_type": "code",
   "execution_count": 31,
   "metadata": {},
   "outputs": [],
   "source": [
    "#Create the time interval periods to query Google Trends with\n",
    "intervals = pd.date_range(start = '28 Dec 2014', end = '25 Mar 2018', freq = '4W')\n",
    "#intervals = pd.date_range(start = '28 Dec 2017', end = '25 Mar 2018', freq = '4W')\n",
    "intervals = intervals.strftime('%Y-%m-%d')"
   ]
  },
  {
   "cell_type": "markdown",
   "metadata": {},
   "source": []
  },
  {
   "cell_type": "code",
   "execution_count": 32,
   "metadata": {},
   "outputs": [],
   "source": [
    "kw_list = [\"bitcoin\"]\n",
    "dataset = pd.DataFrame()\n",
    "for i in range(len(intervals)-1):\n",
    "    x = str(intervals[i]) + ' ' + str(intervals[i+1])\n",
    "    pytrend.build_payload(kw_list, cat=0, timeframe=x, geo='', gprop='')\n",
    "    dataset = dataset.append(pytrend.interest_over_time())\n",
    "# dataset.to_csv('backup1.csv', encoding = 'utf-8')"
   ]
  },
  {
   "cell_type": "code",
   "execution_count": 33,
   "metadata": {
    "scrolled": true
   },
   "outputs": [],
   "source": [
    "x = str(intervals[0]) + ' ' + str(intervals[-1])\n",
    "pytrend.build_payload(kw_list, cat=0, timeframe=x, geo='', gprop='')\n",
    "dataset_year = pytrend.interest_over_time()"
   ]
  },
  {
   "cell_type": "code",
   "execution_count": 34,
   "metadata": {
    "scrolled": true
   },
   "outputs": [],
   "source": [
    "datamerge = dataset.join(dataset_year,rsuffix='year')\n",
    "datamerge['adj'] = datamerge['bitcoinyear'] / datamerge['bitcoin']\n",
    "datamerge.drop(labels = ['isPartial', 'isPartialyear'], axis = 1, inplace=True)\n",
    "datamerge.adj.fillna(method = 'ffill',inplace=True)\n",
    "datamerge['gtrends'] = datamerge['bitcoin'] * datamerge['adj']\n",
    "# datamerge.gtrends.dropna(inplace=True)\n",
    "datamerge1 = pd.DataFrame(datamerge.gtrends)\n",
    "datamerge1.to_csv('gtrends_bitcoin.csv', encoding = 'utf-8')"
   ]
  },
  {
   "cell_type": "code",
   "execution_count": 38,
   "metadata": {},
   "outputs": [],
   "source": [
    "kw_list = [\"buy bitcoin\", \"sell bitcoin\"]\n",
    "dataset = pd.DataFrame()\n",
    "for i in range(len(intervals)-1):\n",
    "    x = str(intervals[i]) + ' ' + str(intervals[i+1])\n",
    "    pytrend.build_payload(kw_list, cat=0, timeframe=x, geo='', gprop='')\n",
    "    dataset = dataset.append(pytrend.interest_over_time())\n",
    "\n",
    "dataset.drop('isPartial', axis = 1, inplace=True)\n",
    "dataset.rename(index = str, columns = {'buy bitcoin': 'buy', 'sell bitcoin':'sell'}, inplace=True)\n",
    "dataset.to_csv('gtrends_bitcoin_buysell.csv', encoding = 'utf-8')"
   ]
  }
 ],
 "metadata": {
  "kernelspec": {
   "display_name": "Python 3",
   "language": "python",
   "name": "python3"
  },
  "language_info": {
   "codemirror_mode": {
    "name": "ipython",
    "version": 3
   },
   "file_extension": ".py",
   "mimetype": "text/x-python",
   "name": "python",
   "nbconvert_exporter": "python",
   "pygments_lexer": "ipython3",
   "version": "3.5.4"
  }
 },
 "nbformat": 4,
 "nbformat_minor": 2
}
